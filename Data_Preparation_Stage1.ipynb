{
 "cells": [
  {
   "cell_type": "markdown",
   "id": "a7908e23",
   "metadata": {},
   "source": [
    "# Merge the data scraped from Zoocasa and Map\n",
    "The data were collected separtely:\n",
    "1. Scrap through all the Zoocasa listings\n",
    "2. Scrap through individual listing to get the parking, type details \n",
    "3. Scrap Map to find the longitude and latitude"
   ]
  },
  {
   "cell_type": "code",
   "execution_count": 1,
   "id": "16611e48",
   "metadata": {},
   "outputs": [],
   "source": [
    "import pandas as pd\n",
    "import numpy as np\n",
    "import json"
   ]
  },
  {
   "cell_type": "code",
   "execution_count": 199,
   "id": "b6c58eee",
   "metadata": {},
   "outputs": [
    {
     "name": "stdout",
     "output_type": "stream",
     "text": [
      "14000\n",
      "27959\n"
     ]
    }
   ],
   "source": [
    "file1 = r'C:\\Users\\Penelope\\Desktop\\web-scraper\\SP-500.json'\n",
    "with open(file1) as train_file1:\n",
    "    dict_train1 = json.load(train_file1)\n",
    "\n",
    "df1 = pd.DataFrame.from_dict(dict_train1, orient='index')\n",
    "df1 = df1.T\n",
    "df1.head(3)\n",
    "print(len(df1))\n",
    "\n",
    "file2 = r'C:\\Users\\Penelope\\Desktop\\web-scraper\\SP-1500.json'\n",
    "with open(file2) as train_file2:\n",
    "    dict_train2 = json.load(train_file2)\n",
    "\n",
    "df2 = pd.DataFrame.from_dict(dict_train2, orient='index')\n",
    "df2 = df2.T\n",
    "print(len(df2))"
   ]
  },
  {
   "cell_type": "code",
   "execution_count": 225,
   "id": "cf6810cc",
   "metadata": {},
   "outputs": [
    {
     "name": "stdout",
     "output_type": "stream",
     "text": [
      "41959\n",
      "41010\n"
     ]
    }
   ],
   "source": [
    "df = pd.concat([df1, df2], axis = 0).reset_index(drop=True)\n",
    "print(len(df))\n",
    "df.drop_duplicates(subset='web_link', keep='first', inplace=True)\n",
    "df = df.reset_index()\n",
    "print(len(df))"
   ]
  },
  {
   "cell_type": "code",
   "execution_count": 226,
   "id": "fa6745e8",
   "metadata": {},
   "outputs": [
    {
     "name": "stdout",
     "output_type": "stream",
     "text": [
      "39390\n"
     ]
    }
   ],
   "source": [
    "NOTO = [] # notice there are non-Toronto units \n",
    "for i in range(len(df)):\n",
    "    if 'toronto-on-real-estate' not in df.loc[i, 'web_link'].split('/')[1]: \n",
    "        NOTO.append(i)\n",
    "df.drop(labels=NOTO, axis=0, inplace=True)\n",
    "print(len(df))"
   ]
  },
  {
   "cell_type": "code",
   "execution_count": 227,
   "id": "025cf98a",
   "metadata": {},
   "outputs": [
    {
     "name": "stdout",
     "output_type": "stream",
     "text": [
      "14000\n",
      "27959\n"
     ]
    }
   ],
   "source": [
    "detail_file1 = r'C:\\Users\\Penelope\\Desktop\\web-scraper\\type-t-500.json'\n",
    "with open(detail_file1) as train_file1:\n",
    "    dict_detail1 = json.load(train_file1)\n",
    "detaildf1 = pd.DataFrame.from_dict(dict_detail1, orient='index')\n",
    "detaildf1 = detaildf1.T\n",
    "print(len(detaildf1))\n",
    "\n",
    "detail_file2 = r'C:\\Users\\Penelope\\Desktop\\Scrapper\\type-t-1500.json'\n",
    "with open(detail_file2) as train_file2:\n",
    "    dict_detail2 = json.load(train_file2)\n",
    "detaildf2 = pd.DataFrame.from_dict(dict_detail2, orient='index')\n",
    "detaildf2 = detaildf2.T\n",
    "print(len(detaildf2))"
   ]
  },
  {
   "cell_type": "code",
   "execution_count": 228,
   "id": "ff372a16",
   "metadata": {},
   "outputs": [
    {
     "name": "stdout",
     "output_type": "stream",
     "text": [
      "41959\n",
      "41010\n",
      "40993\n"
     ]
    }
   ],
   "source": [
    "df_detail = pd.concat([detaildf1, detaildf2], axis = 0).reset_index(drop=True)\n",
    "print(len(df_detail))\n",
    "df_detail.drop_duplicates(subset='link', keep='first', inplace=True)\n",
    "print(len(df_detail))\n",
    "df_detail = df_detail.dropna(how='any',axis=0)\n",
    "print(len(df_detail))"
   ]
  },
  {
   "cell_type": "code",
   "execution_count": 229,
   "id": "95704921",
   "metadata": {},
   "outputs": [
    {
     "name": "stdout",
     "output_type": "stream",
     "text": [
      "13501\n",
      "8501\n",
      "19000\n"
     ]
    }
   ],
   "source": [
    "gmap_file1 = r'C:\\Users\\Penelope\\Desktop\\web-scraper\\gmap-intermediate-firstpart0-13500.json'\n",
    "with open(gmap_file1) as gmap_file1:\n",
    "    dict_gmap1 = json.load(gmap_file1)\n",
    "gmapdf1 = pd.DataFrame.from_dict(dict_gmap1, orient='index')\n",
    "gmapdf1 = gmapdf1.T\n",
    "print(len(gmapdf1))\n",
    "\n",
    "\n",
    "gmap_file2 = r'C:\\Users\\Penelope\\Desktop\\Scrapper\\gmap-intermediate-secondpart0-8500.json'\n",
    "with open(gmap_file2) as gmap_file2:\n",
    "    dict_gmap2 = json.load(gmap_file2)\n",
    "gmapdf2 = pd.DataFrame.from_dict(dict_gmap2, orient='index')\n",
    "gmapdf2 = gmapdf2.T\n",
    "print(len(gmapdf2))\n",
    "\n",
    "gmap_file3 = r'C:\\Users\\Penelope\\Desktop\\Scrapper\\gmap-intermediate-secondpart8501-27500.json'\n",
    "with open(gmap_file3) as gmap_file3:\n",
    "    dict_gmap3 = json.load(gmap_file3)\n",
    "gmapdf3 = pd.DataFrame.from_dict(dict_gmap3, orient='index')\n",
    "gmapdf3 = gmapdf3.T\n",
    "print(len(gmapdf3))"
   ]
  },
  {
   "cell_type": "code",
   "execution_count": 236,
   "id": "869f0651",
   "metadata": {},
   "outputs": [
    {
     "name": "stdout",
     "output_type": "stream",
     "text": [
      "41002\n",
      "40200\n",
      "40200\n"
     ]
    }
   ],
   "source": [
    "gmapdf = pd.concat([gmapdf1, gmapdf2, gmapdf3], axis=0).reset_index()\n",
    "print(len(gmapdf))\n",
    "gmapdf.drop_duplicates(subset='address',keep='first', inplace=True)\n",
    "print(len(gmapdf))\n",
    "gmapdf = gmapdf.dropna(how='any',axis=0)\n",
    "print(len(gmapdf))\n",
    "gmapdf=gmapdf.reset_index()"
   ]
  },
  {
   "cell_type": "code",
   "execution_count": 237,
   "id": "e4f73016",
   "metadata": {},
   "outputs": [],
   "source": [
    "LAT, LONG = [[] for i in range(2)]\n",
    "for i in range(len(gmapdf)):\n",
    "    la, lo = gmapdf.loc[i, 'listing_gmap_urls'].split('@')[1].split(',')[0:2]\n",
    "    LAT.append(la)\n",
    "    LONG.append(lo)\n",
    "    \n",
    "gmapdf['lat'] = LAT\n",
    "gmapdf['long'] = LONG"
   ]
  },
  {
   "cell_type": "code",
   "execution_count": 247,
   "id": "43670ab2",
   "metadata": {},
   "outputs": [
    {
     "name": "stdout",
     "output_type": "stream",
     "text": [
      "39390\n",
      "40993\n",
      "38891\n"
     ]
    }
   ],
   "source": [
    "print(len(df))\n",
    "print(len(df_detail))\n",
    "data = pd.merge(df, df_detail, how='inner', left_on='web_link', right_on='link')\n",
    "data = pd.merge(data, gmapdf, how='inner', left_on='address', right_on='address')\n",
    "print(len(data))"
   ]
  },
  {
   "cell_type": "code",
   "execution_count": 248,
   "id": "3f9fb3a8",
   "metadata": {},
   "outputs": [
    {
     "data": {
      "text/html": [
       "<div>\n",
       "<style scoped>\n",
       "    .dataframe tbody tr th:only-of-type {\n",
       "        vertical-align: middle;\n",
       "    }\n",
       "\n",
       "    .dataframe tbody tr th {\n",
       "        vertical-align: top;\n",
       "    }\n",
       "\n",
       "    .dataframe thead th {\n",
       "        text-align: right;\n",
       "    }\n",
       "</style>\n",
       "<table border=\"1\" class=\"dataframe\">\n",
       "  <thead>\n",
       "    <tr style=\"text-align: right;\">\n",
       "      <th></th>\n",
       "      <th>index_x</th>\n",
       "      <th>sold_price</th>\n",
       "      <th>list_price</th>\n",
       "      <th>address</th>\n",
       "      <th>web_link</th>\n",
       "      <th>bedroom</th>\n",
       "      <th>bathroom</th>\n",
       "      <th>sqft</th>\n",
       "      <th>link</th>\n",
       "      <th>type</th>\n",
       "      <th>level</th>\n",
       "      <th>parking</th>\n",
       "      <th>level_0</th>\n",
       "      <th>index_y</th>\n",
       "      <th>listing_gmap_urls</th>\n",
       "      <th>lat</th>\n",
       "      <th>long</th>\n",
       "    </tr>\n",
       "  </thead>\n",
       "  <tbody>\n",
       "    <tr>\n",
       "      <th>0</th>\n",
       "      <td>0</td>\n",
       "      <td>$1,680,000</td>\n",
       "      <td>List Price$1,499,000</td>\n",
       "      <td>30 Norway Ave</td>\n",
       "      <td>/toronto-on-real-estate/30-norway-ave</td>\n",
       "      <td>3 Bed</td>\n",
       "      <td>3 Bath</td>\n",
       "      <td>N/A sqft</td>\n",
       "      <td>/toronto-on-real-estate/30-norway-ave</td>\n",
       "      <td>TypeSemi-Detached</td>\n",
       "      <td>Levels2-Storey</td>\n",
       "      <td>1</td>\n",
       "      <td>0</td>\n",
       "      <td>0</td>\n",
       "      <td>https://www.google.com/maps/place/30+Norway+Av...</td>\n",
       "      <td>43.6726534</td>\n",
       "      <td>-79.3146166</td>\n",
       "    </tr>\n",
       "    <tr>\n",
       "      <th>1</th>\n",
       "      <td>1</td>\n",
       "      <td>$600,000</td>\n",
       "      <td>List Price$550,000</td>\n",
       "      <td>1403 - 76 Shuter St</td>\n",
       "      <td>/toronto-on-real-estate/1403-76-shuter-st</td>\n",
       "      <td>1 Bed</td>\n",
       "      <td>1 Bath</td>\n",
       "      <td>0-499 sqft</td>\n",
       "      <td>/toronto-on-real-estate/1403-76-shuter-st</td>\n",
       "      <td>TypeCondo Apt</td>\n",
       "      <td>LevelsApartment</td>\n",
       "      <td>1</td>\n",
       "      <td>1</td>\n",
       "      <td>1</td>\n",
       "      <td>https://www.google.com/maps/place/76+Shuter+St...</td>\n",
       "      <td>43.6552933</td>\n",
       "      <td>-79.3841171</td>\n",
       "    </tr>\n",
       "    <tr>\n",
       "      <th>2</th>\n",
       "      <td>2</td>\n",
       "      <td>$660,000</td>\n",
       "      <td>List Price$599,000</td>\n",
       "      <td>103 - 80 Marine Parade Dr</td>\n",
       "      <td>/toronto-on-real-estate/103-80-marine-parade-dr</td>\n",
       "      <td>1 Bed</td>\n",
       "      <td>1 Bath</td>\n",
       "      <td>500â€“599 sqft</td>\n",
       "      <td>/toronto-on-real-estate/103-80-marine-parade-dr</td>\n",
       "      <td>TypeCondo Apt</td>\n",
       "      <td>LevelsApartment</td>\n",
       "      <td>1</td>\n",
       "      <td>2</td>\n",
       "      <td>2</td>\n",
       "      <td>https://www.google.com/maps/place/80+Marine+Pa...</td>\n",
       "      <td>43.6261877</td>\n",
       "      <td>-79.4860442</td>\n",
       "    </tr>\n",
       "  </tbody>\n",
       "</table>\n",
       "</div>"
      ],
      "text/plain": [
       "   index_x  sold_price            list_price                    address  \\\n",
       "0        0  $1,680,000  List Price$1,499,000              30 Norway Ave   \n",
       "1        1    $600,000    List Price$550,000        1403 - 76 Shuter St   \n",
       "2        2    $660,000    List Price$599,000  103 - 80 Marine Parade Dr   \n",
       "\n",
       "                                          web_link bedroom bathroom  \\\n",
       "0            /toronto-on-real-estate/30-norway-ave   3 Bed   3 Bath   \n",
       "1        /toronto-on-real-estate/1403-76-shuter-st   1 Bed   1 Bath   \n",
       "2  /toronto-on-real-estate/103-80-marine-parade-dr   1 Bed   1 Bath   \n",
       "\n",
       "             sqft                                             link  \\\n",
       "0        N/A sqft            /toronto-on-real-estate/30-norway-ave   \n",
       "1      0-499 sqft        /toronto-on-real-estate/1403-76-shuter-st   \n",
       "2  500â€“599 sqft  /toronto-on-real-estate/103-80-marine-parade-dr   \n",
       "\n",
       "                type            level parking  level_0  index_y  \\\n",
       "0  TypeSemi-Detached   Levels2-Storey       1        0        0   \n",
       "1      TypeCondo Apt  LevelsApartment       1        1        1   \n",
       "2      TypeCondo Apt  LevelsApartment       1        2        2   \n",
       "\n",
       "                                   listing_gmap_urls         lat         long  \n",
       "0  https://www.google.com/maps/place/30+Norway+Av...  43.6726534  -79.3146166  \n",
       "1  https://www.google.com/maps/place/76+Shuter+St...  43.6552933  -79.3841171  \n",
       "2  https://www.google.com/maps/place/80+Marine+Pa...  43.6261877  -79.4860442  "
      ]
     },
     "execution_count": 248,
     "metadata": {},
     "output_type": "execute_result"
    }
   ],
   "source": [
    "data.head(3)"
   ]
  },
  {
   "cell_type": "code",
   "execution_count": 249,
   "id": "d88a9085",
   "metadata": {},
   "outputs": [
    {
     "data": {
      "text/html": [
       "<div>\n",
       "<style scoped>\n",
       "    .dataframe tbody tr th:only-of-type {\n",
       "        vertical-align: middle;\n",
       "    }\n",
       "\n",
       "    .dataframe tbody tr th {\n",
       "        vertical-align: top;\n",
       "    }\n",
       "\n",
       "    .dataframe thead th {\n",
       "        text-align: right;\n",
       "    }\n",
       "</style>\n",
       "<table border=\"1\" class=\"dataframe\">\n",
       "  <thead>\n",
       "    <tr style=\"text-align: right;\">\n",
       "      <th></th>\n",
       "      <th>sold_price</th>\n",
       "      <th>list_price</th>\n",
       "      <th>address</th>\n",
       "      <th>web_link</th>\n",
       "      <th>bedroom</th>\n",
       "      <th>bathroom</th>\n",
       "      <th>sqft</th>\n",
       "      <th>link</th>\n",
       "      <th>type</th>\n",
       "      <th>level</th>\n",
       "      <th>parking</th>\n",
       "      <th>level_0</th>\n",
       "      <th>listing_gmap_urls</th>\n",
       "      <th>lat</th>\n",
       "      <th>long</th>\n",
       "    </tr>\n",
       "  </thead>\n",
       "  <tbody>\n",
       "    <tr>\n",
       "      <th>0</th>\n",
       "      <td>$1,680,000</td>\n",
       "      <td>List Price$1,499,000</td>\n",
       "      <td>30 Norway Ave</td>\n",
       "      <td>/toronto-on-real-estate/30-norway-ave</td>\n",
       "      <td>3 Bed</td>\n",
       "      <td>3 Bath</td>\n",
       "      <td>N/A sqft</td>\n",
       "      <td>/toronto-on-real-estate/30-norway-ave</td>\n",
       "      <td>TypeSemi-Detached</td>\n",
       "      <td>Levels2-Storey</td>\n",
       "      <td>1</td>\n",
       "      <td>0</td>\n",
       "      <td>https://www.google.com/maps/place/30+Norway+Av...</td>\n",
       "      <td>43.6726534</td>\n",
       "      <td>-79.3146166</td>\n",
       "    </tr>\n",
       "    <tr>\n",
       "      <th>1</th>\n",
       "      <td>$600,000</td>\n",
       "      <td>List Price$550,000</td>\n",
       "      <td>1403 - 76 Shuter St</td>\n",
       "      <td>/toronto-on-real-estate/1403-76-shuter-st</td>\n",
       "      <td>1 Bed</td>\n",
       "      <td>1 Bath</td>\n",
       "      <td>0-499 sqft</td>\n",
       "      <td>/toronto-on-real-estate/1403-76-shuter-st</td>\n",
       "      <td>TypeCondo Apt</td>\n",
       "      <td>LevelsApartment</td>\n",
       "      <td>1</td>\n",
       "      <td>1</td>\n",
       "      <td>https://www.google.com/maps/place/76+Shuter+St...</td>\n",
       "      <td>43.6552933</td>\n",
       "      <td>-79.3841171</td>\n",
       "    </tr>\n",
       "    <tr>\n",
       "      <th>2</th>\n",
       "      <td>$660,000</td>\n",
       "      <td>List Price$599,000</td>\n",
       "      <td>103 - 80 Marine Parade Dr</td>\n",
       "      <td>/toronto-on-real-estate/103-80-marine-parade-dr</td>\n",
       "      <td>1 Bed</td>\n",
       "      <td>1 Bath</td>\n",
       "      <td>500â€“599 sqft</td>\n",
       "      <td>/toronto-on-real-estate/103-80-marine-parade-dr</td>\n",
       "      <td>TypeCondo Apt</td>\n",
       "      <td>LevelsApartment</td>\n",
       "      <td>1</td>\n",
       "      <td>2</td>\n",
       "      <td>https://www.google.com/maps/place/80+Marine+Pa...</td>\n",
       "      <td>43.6261877</td>\n",
       "      <td>-79.4860442</td>\n",
       "    </tr>\n",
       "  </tbody>\n",
       "</table>\n",
       "</div>"
      ],
      "text/plain": [
       "   sold_price            list_price                    address  \\\n",
       "0  $1,680,000  List Price$1,499,000              30 Norway Ave   \n",
       "1    $600,000    List Price$550,000        1403 - 76 Shuter St   \n",
       "2    $660,000    List Price$599,000  103 - 80 Marine Parade Dr   \n",
       "\n",
       "                                          web_link bedroom bathroom  \\\n",
       "0            /toronto-on-real-estate/30-norway-ave   3 Bed   3 Bath   \n",
       "1        /toronto-on-real-estate/1403-76-shuter-st   1 Bed   1 Bath   \n",
       "2  /toronto-on-real-estate/103-80-marine-parade-dr   1 Bed   1 Bath   \n",
       "\n",
       "             sqft                                             link  \\\n",
       "0        N/A sqft            /toronto-on-real-estate/30-norway-ave   \n",
       "1      0-499 sqft        /toronto-on-real-estate/1403-76-shuter-st   \n",
       "2  500â€“599 sqft  /toronto-on-real-estate/103-80-marine-parade-dr   \n",
       "\n",
       "                type            level parking  level_0  \\\n",
       "0  TypeSemi-Detached   Levels2-Storey       1        0   \n",
       "1      TypeCondo Apt  LevelsApartment       1        1   \n",
       "2      TypeCondo Apt  LevelsApartment       1        2   \n",
       "\n",
       "                                   listing_gmap_urls         lat         long  \n",
       "0  https://www.google.com/maps/place/30+Norway+Av...  43.6726534  -79.3146166  \n",
       "1  https://www.google.com/maps/place/76+Shuter+St...  43.6552933  -79.3841171  \n",
       "2  https://www.google.com/maps/place/80+Marine+Pa...  43.6261877  -79.4860442  "
      ]
     },
     "execution_count": 249,
     "metadata": {},
     "output_type": "execute_result"
    }
   ],
   "source": [
    "data = data.drop(['index_x', 'index_y'], axis=1)\n",
    "data.head(3)"
   ]
  },
  {
   "cell_type": "code",
   "execution_count": 250,
   "id": "494bb5ba",
   "metadata": {},
   "outputs": [
    {
     "data": {
      "text/html": [
       "<div>\n",
       "<style scoped>\n",
       "    .dataframe tbody tr th:only-of-type {\n",
       "        vertical-align: middle;\n",
       "    }\n",
       "\n",
       "    .dataframe tbody tr th {\n",
       "        vertical-align: top;\n",
       "    }\n",
       "\n",
       "    .dataframe thead th {\n",
       "        text-align: right;\n",
       "    }\n",
       "</style>\n",
       "<table border=\"1\" class=\"dataframe\">\n",
       "  <thead>\n",
       "    <tr style=\"text-align: right;\">\n",
       "      <th></th>\n",
       "      <th>sold_price</th>\n",
       "      <th>list_price</th>\n",
       "      <th>address</th>\n",
       "      <th>web_link</th>\n",
       "      <th>bedroom</th>\n",
       "      <th>bathroom</th>\n",
       "      <th>sqft</th>\n",
       "      <th>link</th>\n",
       "      <th>type</th>\n",
       "      <th>level</th>\n",
       "      <th>parking</th>\n",
       "      <th>level_0</th>\n",
       "      <th>listing_gmap_urls</th>\n",
       "      <th>lat</th>\n",
       "      <th>long</th>\n",
       "    </tr>\n",
       "  </thead>\n",
       "  <tbody>\n",
       "    <tr>\n",
       "      <th>38887</th>\n",
       "      <td>$712,500</td>\n",
       "      <td>List Price$499,000</td>\n",
       "      <td>61 - 28 Livingston Rd</td>\n",
       "      <td>/toronto-on-real-estate/61-28-livingston-rd</td>\n",
       "      <td>3 Bed</td>\n",
       "      <td>3 Bath</td>\n",
       "      <td>1400â€“1599 sqft</td>\n",
       "      <td>/toronto-on-real-estate/61-28-livingston-rd</td>\n",
       "      <td>TypeAtt/Row/Twnhouse</td>\n",
       "      <td>Levels3-Storey</td>\n",
       "      <td>2</td>\n",
       "      <td>40969</td>\n",
       "      <td>https://www.google.com/maps/place/28+Livingsto...</td>\n",
       "      <td>43.7414817</td>\n",
       "      <td>-79.2073021</td>\n",
       "    </tr>\n",
       "    <tr>\n",
       "      <th>38888</th>\n",
       "      <td>$1,635,000</td>\n",
       "      <td>List Price$1,398,000</td>\n",
       "      <td>33 Unicorn Ave</td>\n",
       "      <td>/toronto-on-real-estate/33-unicorn-ave</td>\n",
       "      <td>4 Bed</td>\n",
       "      <td>4 Bath</td>\n",
       "      <td>N/A sqft</td>\n",
       "      <td>/toronto-on-real-estate/33-unicorn-ave</td>\n",
       "      <td>TypeDetached</td>\n",
       "      <td>Levels1 1/2 Storey</td>\n",
       "      <td>3</td>\n",
       "      <td>40983</td>\n",
       "      <td>https://www.google.com/maps/place/33+Unicorn+A...</td>\n",
       "      <td>43.7927947</td>\n",
       "      <td>-79.3920482</td>\n",
       "    </tr>\n",
       "    <tr>\n",
       "      <th>38889</th>\n",
       "      <td>$760,000</td>\n",
       "      <td>List Price$699,000</td>\n",
       "      <td>27 - 749 Steeles Ave W</td>\n",
       "      <td>/toronto-on-real-estate/27-749-steeles-ave-w</td>\n",
       "      <td>3 Bed</td>\n",
       "      <td>3 Bath</td>\n",
       "      <td>1200â€“1399 sqft</td>\n",
       "      <td>/toronto-on-real-estate/27-749-steeles-ave-w</td>\n",
       "      <td>TypeCondo Apt</td>\n",
       "      <td>LevelsApartment</td>\n",
       "      <td>0</td>\n",
       "      <td>40985</td>\n",
       "      <td>https://www.google.com/maps/place/749+Steeles+...</td>\n",
       "      <td>43.7930226</td>\n",
       "      <td>-79.4492351</td>\n",
       "    </tr>\n",
       "    <tr>\n",
       "      <th>38890</th>\n",
       "      <td>$551,000</td>\n",
       "      <td>List Price$525,000</td>\n",
       "      <td>1702 - 350 Seneca Hill Dr</td>\n",
       "      <td>/toronto-on-real-estate/1702-350-seneca-hill-dr</td>\n",
       "      <td>2 Bed</td>\n",
       "      <td>1 Bath</td>\n",
       "      <td>800â€“899 sqft</td>\n",
       "      <td>/toronto-on-real-estate/1702-350-seneca-hill-dr</td>\n",
       "      <td>TypeSemi-Detached</td>\n",
       "      <td>LevelsBacksplit 5</td>\n",
       "      <td>3</td>\n",
       "      <td>40988</td>\n",
       "      <td>https://www.google.com/maps/place/350+Seneca+H...</td>\n",
       "      <td>43.7907653</td>\n",
       "      <td>-79.3648767</td>\n",
       "    </tr>\n",
       "  </tbody>\n",
       "</table>\n",
       "</div>"
      ],
      "text/plain": [
       "       sold_price            list_price                    address  \\\n",
       "38887    $712,500    List Price$499,000      61 - 28 Livingston Rd   \n",
       "38888  $1,635,000  List Price$1,398,000             33 Unicorn Ave   \n",
       "38889    $760,000    List Price$699,000     27 - 749 Steeles Ave W   \n",
       "38890    $551,000    List Price$525,000  1702 - 350 Seneca Hill Dr   \n",
       "\n",
       "                                              web_link bedroom bathroom  \\\n",
       "38887      /toronto-on-real-estate/61-28-livingston-rd   3 Bed   3 Bath   \n",
       "38888           /toronto-on-real-estate/33-unicorn-ave   4 Bed   4 Bath   \n",
       "38889     /toronto-on-real-estate/27-749-steeles-ave-w   3 Bed   3 Bath   \n",
       "38890  /toronto-on-real-estate/1702-350-seneca-hill-dr   2 Bed   1 Bath   \n",
       "\n",
       "                   sqft                                             link  \\\n",
       "38887  1400â€“1599 sqft      /toronto-on-real-estate/61-28-livingston-rd   \n",
       "38888          N/A sqft           /toronto-on-real-estate/33-unicorn-ave   \n",
       "38889  1200â€“1399 sqft     /toronto-on-real-estate/27-749-steeles-ave-w   \n",
       "38890    800â€“899 sqft  /toronto-on-real-estate/1702-350-seneca-hill-dr   \n",
       "\n",
       "                       type               level parking  level_0  \\\n",
       "38887  TypeAtt/Row/Twnhouse      Levels3-Storey       2    40969   \n",
       "38888          TypeDetached  Levels1 1/2 Storey       3    40983   \n",
       "38889         TypeCondo Apt     LevelsApartment       0    40985   \n",
       "38890     TypeSemi-Detached   LevelsBacksplit 5       3    40988   \n",
       "\n",
       "                                       listing_gmap_urls         lat  \\\n",
       "38887  https://www.google.com/maps/place/28+Livingsto...  43.7414817   \n",
       "38888  https://www.google.com/maps/place/33+Unicorn+A...  43.7927947   \n",
       "38889  https://www.google.com/maps/place/749+Steeles+...  43.7930226   \n",
       "38890  https://www.google.com/maps/place/350+Seneca+H...  43.7907653   \n",
       "\n",
       "              long  \n",
       "38887  -79.2073021  \n",
       "38888  -79.3920482  \n",
       "38889  -79.4492351  \n",
       "38890  -79.3648767  "
      ]
     },
     "execution_count": 250,
     "metadata": {},
     "output_type": "execute_result"
    }
   ],
   "source": [
    "data.tail(4)"
   ]
  },
  {
   "cell_type": "code",
   "execution_count": 253,
   "id": "88c8d7d7",
   "metadata": {},
   "outputs": [],
   "source": [
    "data.to_csv('./dataset/house_listing_complete_2022.csv')"
   ]
  }
 ],
 "metadata": {
  "kernelspec": {
   "display_name": "Python 3 (ipykernel)",
   "language": "python",
   "name": "python3"
  },
  "language_info": {
   "codemirror_mode": {
    "name": "ipython",
    "version": 3
   },
   "file_extension": ".py",
   "mimetype": "text/x-python",
   "name": "python",
   "nbconvert_exporter": "python",
   "pygments_lexer": "ipython3",
   "version": "3.9.7"
  }
 },
 "nbformat": 4,
 "nbformat_minor": 5
}
